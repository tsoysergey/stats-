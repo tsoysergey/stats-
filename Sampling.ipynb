{
 "cells": [
  {
   "cell_type": "code",
   "execution_count": 1,
   "id": "addressed-baker",
   "metadata": {},
   "outputs": [],
   "source": [
    "import pandas as pd\n",
    "import numpy as np\n",
    "from scipy import stats\n",
    "import seaborn as sns\n",
    "import matplotlib.pyplot as plt\n",
    "from scipy.stats import norm"
   ]
  },
  {
   "cell_type": "markdown",
   "id": "earned-tamil",
   "metadata": {},
   "source": [
    "### The importance of choosing unbiased sample\n",
    "\n",
    "#### You probaly know different sampling methods such as Simple Random Sampling, Systematic Random Sampling , Stratified Random Sampling and Cluster Sampling. However, only few concerned about samples and do sampling \"Error\" just because there are a very large number of possible samples. \n",
    "\n",
    "#### For example, if we had 20 values and samples of 6 values then we would get 38760 different samples. "
   ]
  },
  {
   "cell_type": "code",
   "execution_count": null,
   "id": "crazy-cabin",
   "metadata": {},
   "outputs": [],
   "source": []
  }
 ],
 "metadata": {
  "kernelspec": {
   "display_name": "Python 3",
   "language": "python",
   "name": "python3"
  },
  "language_info": {
   "codemirror_mode": {
    "name": "ipython",
    "version": 3
   },
   "file_extension": ".py",
   "mimetype": "text/x-python",
   "name": "python",
   "nbconvert_exporter": "python",
   "pygments_lexer": "ipython3",
   "version": "3.9.4"
  }
 },
 "nbformat": 4,
 "nbformat_minor": 5
}
